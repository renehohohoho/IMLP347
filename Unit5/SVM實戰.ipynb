{
 "cells": [
  {
   "cell_type": "markdown",
   "metadata": {},
   "source": [
    "# 乳癌資料庫預測SVM分類\n",
    ">使用scikit-learn 機器學習套件裡的SVR演算法\n",
    "\n",
    "* (一)引入函式庫及內建乳癌資料集<br>\n",
    "引入之函式庫如下<br>\n",
    "sklearn.datasets: 用來匯入內建之乳癌資料集`datasets.load_breast_cancer()`<br>\n",
    "sklearn.SVR: 支持向量機回歸分析之演算法<br>\n",
    "matplotlib.pyplot: 用來繪製影像\n",
    "\n",
    "from sklearn import svm\n",
    "這個函式庫匯入了 svm 模組，svm 是支持向量機（Support Vector Machines）的縮寫。svm 包含了支持向量分類器（SVC）、支持向量回歸（SVR）等機器學習演算法。\n",
    "\n",
    "import pandas as pd\n",
    "pandas 是一個強大的資料處理和分析工具。它提供了 DataFrame 資料結構，類似於 Excel 表格，可以方便地處理結構化數據。\n",
    "\n",
    "import numpy as np\n",
    "numpy 是一個數值計算的函式庫，提供了多維陣列物件和各種運算工具。numpy 是很多科學計算和機器學習函式庫的基礎。\n",
    "\n",
    "import matplotlib.pyplot as plt\n",
    "matplotlib.pyplot 是一個繪圖函式庫，提供了一系列繪製靜態、動態和互動式影像的工具。pyplot 模組讓我們可以像 MATLAB 一樣使用簡單的指令繪製圖表。\n",
    "\n",
    "from sklearn import datasets\n",
    "datasets 模組提供了一些內建的數據集，方便用來做練習和測試。這些數據集包括乳癌數據集、手寫數字數據集、鳶尾花數據集等。\n",
    "\n",
    "from sklearn.model_selection import train_test_split\n",
    "train_test_split 函數用於將數據集分為訓練集和測試集。這是一個很重要的步驟，可以幫助我們評估模型的性能，避免過擬合（overfitting）。\n",
    "\n",
    "from sklearn.metrics import accuracy_score\n",
    "accuracy_score 函數用於計算模型預測的準確率。準確率是機器學習中最常用的評估指標之一，表示模型預測正確的比例。"
   ]
  },
  {
   "cell_type": "code",
   "execution_count": 4,
   "metadata": {},
   "outputs": [],
   "source": [
    "from sklearn import svm\n",
    "import pandas as pd\n",
    "import numpy as np\n",
    "import matplotlib.pyplot as plt\n",
    "from sklearn import datasets\n",
    "from sklearn.model_selection import train_test_split\n",
    "from sklearn.metrics import accuracy_score"
   ]
  },
  {
   "cell_type": "markdown",
   "metadata": {},
   "source": [
    "## Step1. 下載資料"
   ]
  },
  {
   "cell_type": "code",
   "execution_count": 6,
   "metadata": {},
   "outputs": [
    {
     "name": "stdout",
     "output_type": "stream",
     "text": [
      "dict_keys(['data', 'target', 'frame', 'target_names', 'DESCR', 'feature_names', 'filename', 'data_module'])\n",
      "['mean radius' 'mean texture' 'mean perimeter' 'mean area'\n",
      " 'mean smoothness' 'mean compactness' 'mean concavity'\n",
      " 'mean concave points' 'mean symmetry' 'mean fractal dimension'\n",
      " 'radius error' 'texture error' 'perimeter error' 'area error'\n",
      " 'smoothness error' 'compactness error' 'concavity error'\n",
      " 'concave points error' 'symmetry error' 'fractal dimension error'\n",
      " 'worst radius' 'worst texture' 'worst perimeter' 'worst area'\n",
      " 'worst smoothness' 'worst compactness' 'worst concavity'\n",
      " 'worst concave points' 'worst symmetry' 'worst fractal dimension']\n",
      "['malignant' 'benign']\n"
     ]
    }
   ],
   "source": [
    "# 匯入內建的乳癌資料集\n",
    "breast_cancer = datasets.load_breast_cancer()\n",
    "\n",
    "# 提取特徵數據\n",
    "feature = breast_cancer.data\n",
    "\n",
    "# 提取目標數據（分類標籤）\n",
    "target = breast_cancer.target\n",
    "\n",
    "# 列印資料集的鍵值\n",
    "print(breast_cancer.keys())\n",
    "# keys() 方法會顯示資料集中包含的不同部分，例如 'data', 'target', 'target_names', 'feature_names', 'DESCR' 等\n",
    "\n",
    "# 列印特徵名稱\n",
    "print(breast_cancer.feature_names)\n",
    "# feature_names 包含每個特徵的名稱，例如 'mean radius', 'mean texture', 'mean perimeter' 等\n",
    "\n",
    "# 列印目標名稱（分類標籤的名稱）\n",
    "print(breast_cancer.target_names)\n",
    "# target_names 包含分類標籤的名稱，表示 0 和 1 分別代表的意義，例如 'malignant'（惡性）和 'benign'（良性）"
   ]
  },
  {
   "cell_type": "code",
   "execution_count": 9,
   "metadata": {},
   "outputs": [
    {
     "data": {
      "text/plain": [
       "array([[1.799e+01, 1.038e+01, 1.228e+02, ..., 2.654e-01, 4.601e-01,\n",
       "        1.189e-01],\n",
       "       [2.057e+01, 1.777e+01, 1.329e+02, ..., 1.860e-01, 2.750e-01,\n",
       "        8.902e-02],\n",
       "       [1.969e+01, 2.125e+01, 1.300e+02, ..., 2.430e-01, 3.613e-01,\n",
       "        8.758e-02],\n",
       "       ...,\n",
       "       [1.660e+01, 2.808e+01, 1.083e+02, ..., 1.418e-01, 2.218e-01,\n",
       "        7.820e-02],\n",
       "       [2.060e+01, 2.933e+01, 1.401e+02, ..., 2.650e-01, 4.087e-01,\n",
       "        1.240e-01],\n",
       "       [7.760e+00, 2.454e+01, 4.792e+01, ..., 0.000e+00, 2.871e-01,\n",
       "        7.039e-02]])"
      ]
     },
     "execution_count": 9,
     "metadata": {},
     "output_type": "execute_result"
    }
   ],
   "source": [
    "feature"
   ]
  },
  {
   "cell_type": "code",
   "execution_count": 11,
   "metadata": {},
   "outputs": [
    {
     "data": {
      "text/plain": [
       "array([0, 0, 0, 0, 0, 0, 0, 0, 0, 0, 0, 0, 0, 0, 0, 0, 0, 0, 0, 1, 1, 1,\n",
       "       0, 0, 0, 0, 0, 0, 0, 0, 0, 0, 0, 0, 0, 0, 0, 1, 0, 0, 0, 0, 0, 0,\n",
       "       0, 0, 1, 0, 1, 1, 1, 1, 1, 0, 0, 1, 0, 0, 1, 1, 1, 1, 0, 1, 0, 0,\n",
       "       1, 1, 1, 1, 0, 1, 0, 0, 1, 0, 1, 0, 0, 1, 1, 1, 0, 0, 1, 0, 0, 0,\n",
       "       1, 1, 1, 0, 1, 1, 0, 0, 1, 1, 1, 0, 0, 1, 1, 1, 1, 0, 1, 1, 0, 1,\n",
       "       1, 1, 1, 1, 1, 1, 1, 0, 0, 0, 1, 0, 0, 1, 1, 1, 0, 0, 1, 0, 1, 0,\n",
       "       0, 1, 0, 0, 1, 1, 0, 1, 1, 0, 1, 1, 1, 1, 0, 1, 1, 1, 1, 1, 1, 1,\n",
       "       1, 1, 0, 1, 1, 1, 1, 0, 0, 1, 0, 1, 1, 0, 0, 1, 1, 0, 0, 1, 1, 1,\n",
       "       1, 0, 1, 1, 0, 0, 0, 1, 0, 1, 0, 1, 1, 1, 0, 1, 1, 0, 0, 1, 0, 0,\n",
       "       0, 0, 1, 0, 0, 0, 1, 0, 1, 0, 1, 1, 0, 1, 0, 0, 0, 0, 1, 1, 0, 0,\n",
       "       1, 1, 1, 0, 1, 1, 1, 1, 1, 0, 0, 1, 1, 0, 1, 1, 0, 0, 1, 0, 1, 1,\n",
       "       1, 1, 0, 1, 1, 1, 1, 1, 0, 1, 0, 0, 0, 0, 0, 0, 0, 0, 0, 0, 0, 0,\n",
       "       0, 0, 1, 1, 1, 1, 1, 1, 0, 1, 0, 1, 1, 0, 1, 1, 0, 1, 0, 0, 1, 1,\n",
       "       1, 1, 1, 1, 1, 1, 1, 1, 1, 1, 1, 0, 1, 1, 0, 1, 0, 1, 1, 1, 1, 1,\n",
       "       1, 1, 1, 1, 1, 1, 1, 1, 1, 0, 1, 1, 1, 0, 1, 0, 1, 1, 1, 1, 0, 0,\n",
       "       0, 1, 1, 1, 1, 0, 1, 0, 1, 0, 1, 1, 1, 0, 1, 1, 1, 1, 1, 1, 1, 0,\n",
       "       0, 0, 1, 1, 1, 1, 1, 1, 1, 1, 1, 1, 1, 0, 0, 1, 0, 0, 0, 1, 0, 0,\n",
       "       1, 1, 1, 1, 1, 0, 1, 1, 1, 1, 1, 0, 1, 1, 1, 0, 1, 1, 0, 0, 1, 1,\n",
       "       1, 1, 1, 1, 0, 1, 1, 1, 1, 1, 1, 1, 0, 1, 1, 1, 1, 1, 0, 1, 1, 0,\n",
       "       1, 1, 1, 1, 1, 1, 1, 1, 1, 1, 1, 1, 0, 1, 0, 0, 1, 0, 1, 1, 1, 1,\n",
       "       1, 0, 1, 1, 0, 1, 0, 1, 1, 0, 1, 0, 1, 1, 1, 1, 1, 1, 1, 1, 0, 0,\n",
       "       1, 1, 1, 1, 1, 1, 0, 1, 1, 1, 1, 1, 1, 1, 1, 1, 1, 0, 1, 1, 1, 1,\n",
       "       1, 1, 1, 0, 1, 0, 1, 1, 0, 1, 1, 1, 1, 1, 0, 0, 1, 0, 1, 0, 1, 1,\n",
       "       1, 1, 1, 0, 1, 1, 0, 1, 0, 1, 0, 0, 1, 1, 1, 0, 1, 1, 1, 1, 1, 1,\n",
       "       1, 1, 1, 1, 1, 0, 1, 0, 0, 1, 1, 1, 1, 1, 1, 1, 1, 1, 1, 1, 1, 1,\n",
       "       1, 1, 1, 1, 1, 1, 1, 1, 1, 1, 1, 1, 0, 0, 0, 0, 0, 0, 1])"
      ]
     },
     "execution_count": 11,
     "metadata": {},
     "output_type": "execute_result"
    }
   ],
   "source": [
    "target"
   ]
  },
  {
   "cell_type": "code",
   "execution_count": 13,
   "metadata": {},
   "outputs": [],
   "source": [
    "target_names=breast_cancer.target_names\n",
    "labels=target_names[target]"
   ]
  },
  {
   "cell_type": "code",
   "execution_count": 15,
   "metadata": {},
   "outputs": [
    {
     "data": {
      "text/plain": [
       "array(['malignant', 'malignant', 'malignant', 'malignant', 'malignant',\n",
       "       'malignant', 'malignant', 'malignant', 'malignant', 'malignant',\n",
       "       'malignant', 'malignant', 'malignant', 'malignant', 'malignant',\n",
       "       'malignant', 'malignant', 'malignant', 'malignant', 'benign',\n",
       "       'benign', 'benign', 'malignant', 'malignant', 'malignant',\n",
       "       'malignant', 'malignant', 'malignant', 'malignant', 'malignant',\n",
       "       'malignant', 'malignant', 'malignant', 'malignant', 'malignant',\n",
       "       'malignant', 'malignant', 'benign', 'malignant', 'malignant',\n",
       "       'malignant', 'malignant', 'malignant', 'malignant', 'malignant',\n",
       "       'malignant', 'benign', 'malignant', 'benign', 'benign', 'benign',\n",
       "       'benign', 'benign', 'malignant', 'malignant', 'benign',\n",
       "       'malignant', 'malignant', 'benign', 'benign', 'benign', 'benign',\n",
       "       'malignant', 'benign', 'malignant', 'malignant', 'benign',\n",
       "       'benign', 'benign', 'benign', 'malignant', 'benign', 'malignant',\n",
       "       'malignant', 'benign', 'malignant', 'benign', 'malignant',\n",
       "       'malignant', 'benign', 'benign', 'benign', 'malignant',\n",
       "       'malignant', 'benign', 'malignant', 'malignant', 'malignant',\n",
       "       'benign', 'benign', 'benign', 'malignant', 'benign', 'benign',\n",
       "       'malignant', 'malignant', 'benign', 'benign', 'benign',\n",
       "       'malignant', 'malignant', 'benign', 'benign', 'benign', 'benign',\n",
       "       'malignant', 'benign', 'benign', 'malignant', 'benign', 'benign',\n",
       "       'benign', 'benign', 'benign', 'benign', 'benign', 'benign',\n",
       "       'malignant', 'malignant', 'malignant', 'benign', 'malignant',\n",
       "       'malignant', 'benign', 'benign', 'benign', 'malignant',\n",
       "       'malignant', 'benign', 'malignant', 'benign', 'malignant',\n",
       "       'malignant', 'benign', 'malignant', 'malignant', 'benign',\n",
       "       'benign', 'malignant', 'benign', 'benign', 'malignant', 'benign',\n",
       "       'benign', 'benign', 'benign', 'malignant', 'benign', 'benign',\n",
       "       'benign', 'benign', 'benign', 'benign', 'benign', 'benign',\n",
       "       'benign', 'malignant', 'benign', 'benign', 'benign', 'benign',\n",
       "       'malignant', 'malignant', 'benign', 'malignant', 'benign',\n",
       "       'benign', 'malignant', 'malignant', 'benign', 'benign',\n",
       "       'malignant', 'malignant', 'benign', 'benign', 'benign', 'benign',\n",
       "       'malignant', 'benign', 'benign', 'malignant', 'malignant',\n",
       "       'malignant', 'benign', 'malignant', 'benign', 'malignant',\n",
       "       'benign', 'benign', 'benign', 'malignant', 'benign', 'benign',\n",
       "       'malignant', 'malignant', 'benign', 'malignant', 'malignant',\n",
       "       'malignant', 'malignant', 'benign', 'malignant', 'malignant',\n",
       "       'malignant', 'benign', 'malignant', 'benign', 'malignant',\n",
       "       'benign', 'benign', 'malignant', 'benign', 'malignant',\n",
       "       'malignant', 'malignant', 'malignant', 'benign', 'benign',\n",
       "       'malignant', 'malignant', 'benign', 'benign', 'benign',\n",
       "       'malignant', 'benign', 'benign', 'benign', 'benign', 'benign',\n",
       "       'malignant', 'malignant', 'benign', 'benign', 'malignant',\n",
       "       'benign', 'benign', 'malignant', 'malignant', 'benign',\n",
       "       'malignant', 'benign', 'benign', 'benign', 'benign', 'malignant',\n",
       "       'benign', 'benign', 'benign', 'benign', 'benign', 'malignant',\n",
       "       'benign', 'malignant', 'malignant', 'malignant', 'malignant',\n",
       "       'malignant', 'malignant', 'malignant', 'malignant', 'malignant',\n",
       "       'malignant', 'malignant', 'malignant', 'malignant', 'malignant',\n",
       "       'benign', 'benign', 'benign', 'benign', 'benign', 'benign',\n",
       "       'malignant', 'benign', 'malignant', 'benign', 'benign',\n",
       "       'malignant', 'benign', 'benign', 'malignant', 'benign',\n",
       "       'malignant', 'malignant', 'benign', 'benign', 'benign', 'benign',\n",
       "       'benign', 'benign', 'benign', 'benign', 'benign', 'benign',\n",
       "       'benign', 'benign', 'benign', 'malignant', 'benign', 'benign',\n",
       "       'malignant', 'benign', 'malignant', 'benign', 'benign', 'benign',\n",
       "       'benign', 'benign', 'benign', 'benign', 'benign', 'benign',\n",
       "       'benign', 'benign', 'benign', 'benign', 'benign', 'malignant',\n",
       "       'benign', 'benign', 'benign', 'malignant', 'benign', 'malignant',\n",
       "       'benign', 'benign', 'benign', 'benign', 'malignant', 'malignant',\n",
       "       'malignant', 'benign', 'benign', 'benign', 'benign', 'malignant',\n",
       "       'benign', 'malignant', 'benign', 'malignant', 'benign', 'benign',\n",
       "       'benign', 'malignant', 'benign', 'benign', 'benign', 'benign',\n",
       "       'benign', 'benign', 'benign', 'malignant', 'malignant',\n",
       "       'malignant', 'benign', 'benign', 'benign', 'benign', 'benign',\n",
       "       'benign', 'benign', 'benign', 'benign', 'benign', 'benign',\n",
       "       'malignant', 'malignant', 'benign', 'malignant', 'malignant',\n",
       "       'malignant', 'benign', 'malignant', 'malignant', 'benign',\n",
       "       'benign', 'benign', 'benign', 'benign', 'malignant', 'benign',\n",
       "       'benign', 'benign', 'benign', 'benign', 'malignant', 'benign',\n",
       "       'benign', 'benign', 'malignant', 'benign', 'benign', 'malignant',\n",
       "       'malignant', 'benign', 'benign', 'benign', 'benign', 'benign',\n",
       "       'benign', 'malignant', 'benign', 'benign', 'benign', 'benign',\n",
       "       'benign', 'benign', 'benign', 'malignant', 'benign', 'benign',\n",
       "       'benign', 'benign', 'benign', 'malignant', 'benign', 'benign',\n",
       "       'malignant', 'benign', 'benign', 'benign', 'benign', 'benign',\n",
       "       'benign', 'benign', 'benign', 'benign', 'benign', 'benign',\n",
       "       'benign', 'malignant', 'benign', 'malignant', 'malignant',\n",
       "       'benign', 'malignant', 'benign', 'benign', 'benign', 'benign',\n",
       "       'benign', 'malignant', 'benign', 'benign', 'malignant', 'benign',\n",
       "       'malignant', 'benign', 'benign', 'malignant', 'benign',\n",
       "       'malignant', 'benign', 'benign', 'benign', 'benign', 'benign',\n",
       "       'benign', 'benign', 'benign', 'malignant', 'malignant', 'benign',\n",
       "       'benign', 'benign', 'benign', 'benign', 'benign', 'malignant',\n",
       "       'benign', 'benign', 'benign', 'benign', 'benign', 'benign',\n",
       "       'benign', 'benign', 'benign', 'benign', 'malignant', 'benign',\n",
       "       'benign', 'benign', 'benign', 'benign', 'benign', 'benign',\n",
       "       'malignant', 'benign', 'malignant', 'benign', 'benign',\n",
       "       'malignant', 'benign', 'benign', 'benign', 'benign', 'benign',\n",
       "       'malignant', 'malignant', 'benign', 'malignant', 'benign',\n",
       "       'malignant', 'benign', 'benign', 'benign', 'benign', 'benign',\n",
       "       'malignant', 'benign', 'benign', 'malignant', 'benign',\n",
       "       'malignant', 'benign', 'malignant', 'malignant', 'benign',\n",
       "       'benign', 'benign', 'malignant', 'benign', 'benign', 'benign',\n",
       "       'benign', 'benign', 'benign', 'benign', 'benign', 'benign',\n",
       "       'benign', 'benign', 'malignant', 'benign', 'malignant',\n",
       "       'malignant', 'benign', 'benign', 'benign', 'benign', 'benign',\n",
       "       'benign', 'benign', 'benign', 'benign', 'benign', 'benign',\n",
       "       'benign', 'benign', 'benign', 'benign', 'benign', 'benign',\n",
       "       'benign', 'benign', 'benign', 'benign', 'benign', 'benign',\n",
       "       'benign', 'benign', 'malignant', 'malignant', 'malignant',\n",
       "       'malignant', 'malignant', 'malignant', 'benign'], dtype='<U9')"
      ]
     },
     "execution_count": 15,
     "metadata": {},
     "output_type": "execute_result"
    }
   ],
   "source": [
    "labels"
   ]
  },
  {
   "cell_type": "markdown",
   "metadata": {},
   "source": [
    "## Step2. 區分訓練集與測試集"
   ]
  },
  {
   "cell_type": "code",
   "execution_count": 20,
   "metadata": {},
   "outputs": [],
   "source": [
    "# 將資料集分為訓練集（80%）和測試集（20%），設定random_state=42以保證每次分割都相同\n",
    "X_train, X_test, y_train, y_test = train_test_split(feature, target, test_size=0.2, random_state=42)"
   ]
  },
  {
   "cell_type": "markdown",
   "metadata": {},
   "source": [
    "## Step3. 建模"
   ]
  },
  {
   "cell_type": "code",
   "execution_count": 22,
   "metadata": {},
   "outputs": [
    {
     "data": {
      "text/html": [
       "<style>#sk-container-id-1 {color: black;background-color: white;}#sk-container-id-1 pre{padding: 0;}#sk-container-id-1 div.sk-toggleable {background-color: white;}#sk-container-id-1 label.sk-toggleable__label {cursor: pointer;display: block;width: 100%;margin-bottom: 0;padding: 0.3em;box-sizing: border-box;text-align: center;}#sk-container-id-1 label.sk-toggleable__label-arrow:before {content: \"▸\";float: left;margin-right: 0.25em;color: #696969;}#sk-container-id-1 label.sk-toggleable__label-arrow:hover:before {color: black;}#sk-container-id-1 div.sk-estimator:hover label.sk-toggleable__label-arrow:before {color: black;}#sk-container-id-1 div.sk-toggleable__content {max-height: 0;max-width: 0;overflow: hidden;text-align: left;background-color: #f0f8ff;}#sk-container-id-1 div.sk-toggleable__content pre {margin: 0.2em;color: black;border-radius: 0.25em;background-color: #f0f8ff;}#sk-container-id-1 input.sk-toggleable__control:checked~div.sk-toggleable__content {max-height: 200px;max-width: 100%;overflow: auto;}#sk-container-id-1 input.sk-toggleable__control:checked~label.sk-toggleable__label-arrow:before {content: \"▾\";}#sk-container-id-1 div.sk-estimator input.sk-toggleable__control:checked~label.sk-toggleable__label {background-color: #d4ebff;}#sk-container-id-1 div.sk-label input.sk-toggleable__control:checked~label.sk-toggleable__label {background-color: #d4ebff;}#sk-container-id-1 input.sk-hidden--visually {border: 0;clip: rect(1px 1px 1px 1px);clip: rect(1px, 1px, 1px, 1px);height: 1px;margin: -1px;overflow: hidden;padding: 0;position: absolute;width: 1px;}#sk-container-id-1 div.sk-estimator {font-family: monospace;background-color: #f0f8ff;border: 1px dotted black;border-radius: 0.25em;box-sizing: border-box;margin-bottom: 0.5em;}#sk-container-id-1 div.sk-estimator:hover {background-color: #d4ebff;}#sk-container-id-1 div.sk-parallel-item::after {content: \"\";width: 100%;border-bottom: 1px solid gray;flex-grow: 1;}#sk-container-id-1 div.sk-label:hover label.sk-toggleable__label {background-color: #d4ebff;}#sk-container-id-1 div.sk-serial::before {content: \"\";position: absolute;border-left: 1px solid gray;box-sizing: border-box;top: 0;bottom: 0;left: 50%;z-index: 0;}#sk-container-id-1 div.sk-serial {display: flex;flex-direction: column;align-items: center;background-color: white;padding-right: 0.2em;padding-left: 0.2em;position: relative;}#sk-container-id-1 div.sk-item {position: relative;z-index: 1;}#sk-container-id-1 div.sk-parallel {display: flex;align-items: stretch;justify-content: center;background-color: white;position: relative;}#sk-container-id-1 div.sk-item::before, #sk-container-id-1 div.sk-parallel-item::before {content: \"\";position: absolute;border-left: 1px solid gray;box-sizing: border-box;top: 0;bottom: 0;left: 50%;z-index: -1;}#sk-container-id-1 div.sk-parallel-item {display: flex;flex-direction: column;z-index: 1;position: relative;background-color: white;}#sk-container-id-1 div.sk-parallel-item:first-child::after {align-self: flex-end;width: 50%;}#sk-container-id-1 div.sk-parallel-item:last-child::after {align-self: flex-start;width: 50%;}#sk-container-id-1 div.sk-parallel-item:only-child::after {width: 0;}#sk-container-id-1 div.sk-dashed-wrapped {border: 1px dashed gray;margin: 0 0.4em 0.5em 0.4em;box-sizing: border-box;padding-bottom: 0.4em;background-color: white;}#sk-container-id-1 div.sk-label label {font-family: monospace;font-weight: bold;display: inline-block;line-height: 1.2em;}#sk-container-id-1 div.sk-label-container {text-align: center;}#sk-container-id-1 div.sk-container {/* jupyter's `normalize.less` sets `[hidden] { display: none; }` but bootstrap.min.css set `[hidden] { display: none !important; }` so we also need the `!important` here to be able to override the default hidden behavior on the sphinx rendered scikit-learn.org. See: https://github.com/scikit-learn/scikit-learn/issues/21755 */display: inline-block !important;position: relative;}#sk-container-id-1 div.sk-text-repr-fallback {display: none;}</style><div id=\"sk-container-id-1\" class=\"sk-top-container\"><div class=\"sk-text-repr-fallback\"><pre>SVC(kernel=&#x27;linear&#x27;)</pre><b>In a Jupyter environment, please rerun this cell to show the HTML representation or trust the notebook. <br />On GitHub, the HTML representation is unable to render, please try loading this page with nbviewer.org.</b></div><div class=\"sk-container\" hidden><div class=\"sk-item\"><div class=\"sk-estimator sk-toggleable\"><input class=\"sk-toggleable__control sk-hidden--visually\" id=\"sk-estimator-id-1\" type=\"checkbox\" checked><label for=\"sk-estimator-id-1\" class=\"sk-toggleable__label sk-toggleable__label-arrow\">SVC</label><div class=\"sk-toggleable__content\"><pre>SVC(kernel=&#x27;linear&#x27;)</pre></div></div></div></div></div>"
      ],
      "text/plain": [
       "SVC(kernel='linear')"
      ]
     },
     "execution_count": 22,
     "metadata": {},
     "output_type": "execute_result"
    }
   ],
   "source": [
    "# 初始化支持向量機分類器\n",
    "clf = svm.SVC(kernel='linear')\n",
    "\n",
    "# 訓練模型\n",
    "clf.fit(X_train, y_train)"
   ]
  },
  {
   "cell_type": "markdown",
   "metadata": {},
   "source": [
    "## Step4. 預測\n",
    "\n",
    "```\n",
    "\n",
    "```\n"
   ]
  },
  {
   "cell_type": "code",
   "execution_count": 25,
   "metadata": {},
   "outputs": [],
   "source": [
    "# 使用模型進行預測\n",
    "y_pred = clf.predict(X_test)"
   ]
  },
  {
   "cell_type": "markdown",
   "metadata": {},
   "source": [
    "## Step5. 準確度分析"
   ]
  },
  {
   "cell_type": "code",
   "execution_count": 27,
   "metadata": {},
   "outputs": [
    {
     "name": "stdout",
     "output_type": "stream",
     "text": [
      "模型的準確率: 0.96\n"
     ]
    }
   ],
   "source": [
    "# 計算準確率\n",
    "accuracy = accuracy_score(y_test, y_pred)\n",
    "print(f\"模型的準確率: {accuracy:.2f}\")\n"
   ]
  },
  {
   "cell_type": "code",
   "execution_count": 31,
   "metadata": {},
   "outputs": [
    {
     "data": {
      "image/png": "[encoded data removed]",
      "text/plain": [
       "<Figure size 640x480 with 1 Axes>"
      ]
     },
     "metadata": {},
     "output_type": "display_data"
    }
   ],
   "source": [
    "# 繪製部分測試數據的真實值和預測值（僅作為示例）\n",
    "plt.scatter(range(len(y_test)), y_test, color='blue', label='Actual')\n",
    "plt.scatter(range(len(y_test)), y_pred, color='red', marker='x', label='Predicted')\n",
    "plt.xlabel('Sample Index')\n",
    "plt.ylabel('Class')\n",
    "plt.title('SVM Prediction Results')\n",
    "plt.legend()\n",
    "plt.show()"
   ]
  },
  {
   "cell_type": "code",
   "execution_count": null,
   "metadata": {},
   "outputs": [],
   "source": []
  }
 ],
 "metadata": {
  "kernelspec": {
   "display_name": "Python 3 (ipykernel)",
   "language": "python",
   "name": "python3"
  },
  "language_info": {
   "codemirror_mode": {
    "name": "ipython",
    "version": 3
   },
   "file_extension": ".py",
   "mimetype": "text/x-python",
   "name": "python",
   "nbconvert_exporter": "python",
   "pygments_lexer": "ipython3",
   "version": "3.11.7"
  }
 },
 "nbformat": 4,
 "nbformat_minor": 4
}
